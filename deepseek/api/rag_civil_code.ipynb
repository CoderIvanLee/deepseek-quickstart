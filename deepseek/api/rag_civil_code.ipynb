{
 "cells": [
  {
   "cell_type": "code",
   "execution_count": 1,
   "id": "0460b930-c500-4c87-b533-a9062988cae7",
   "metadata": {},
   "outputs": [
    {
     "name": "stdout",
     "output_type": "stream",
     "text": [
      "697\n",
      "**第二百零九条** 不动产物权的设立、变更、转让和消灭，经依法登记，发生效力；未经登记，不发生效力，但是法律另有规定的除外。\n",
      "\n"
     ]
    }
   ],
   "source": [
    "import os\n",
    "\n",
    "# 从环境变量获取 DeepSeek API Key\n",
    "api_key = os.getenv(\"DEEPSEEK_API_KEY\")\n",
    "if not api_key :\n",
    "    raise ValueError(\"请设置环境变量 DEEPSEEK_API_KEY\")\n",
    "\n",
    "\n",
    "text_lines = []\n",
    "with open(\"./mfd.md\", 'r', encoding='utf-8') as file:\n",
    "   for line in file:\n",
    "       if line is not None and line.strip() != \"\":\n",
    "           text_lines.append(line)\n",
    "           \n",
    "print(len(text_lines))\n",
    "print(text_lines[10])\n",
    "# 初始化deepseek 接口客户端对象\n",
    "from openai import OpenAI\n",
    "deepseek_client = OpenAI(\n",
    "    api_key = api_key,\n",
    "    base_url=\"https://api.deepseek.com/v1\"\n",
    ")\n",
    "\n",
    "# 准备向量数据库\n",
    "# from pymilvus import model as milvus_model\n",
    "# embedding_model = milvus_model.DefaultEmbeddingFunction()"
   ]
  },
  {
   "cell_type": "code",
   "execution_count": 2,
   "id": "4488d0ce-ebb3-4822-a090-a0aa14ed064f",
   "metadata": {},
   "outputs": [],
   "source": [
    "from sentence_transformers import SentenceTransformer\n",
    "\n",
    "# 专用中文嵌入模型\n",
    "model = SentenceTransformer('paraphrase-multilingual-MiniLM-L12-v2')\n",
    "\n",
    "def chinese_embedding(texts):\n",
    "    return model.encode(texts).tolist()\n",
    "    "
   ]
  },
  {
   "cell_type": "code",
   "execution_count": 3,
   "id": "602de6db-e4cf-4e1f-a8af-b42707eaee07",
   "metadata": {},
   "outputs": [
    {
     "data": {
      "text/plain": [
       "384"
      ]
     },
     "execution_count": 3,
     "metadata": {},
     "output_type": "execute_result"
    }
   ],
   "source": [
    "import numpy as np\n",
    "\n",
    "# 插入前归一化\n",
    "def normalize_vectors(vectors):\n",
    "    norms = np.linalg.norm(vectors, axis=1, keepdims=True)\n",
    "    return vectors / norms\n",
    "\n",
    "question = \"不动产登记机构不得有哪些行为\"\n",
    "query_vector = normalize_vectors([chinese_embedding([question])])[0]\n",
    "len(query_vector[0])"
   ]
  },
  {
   "cell_type": "code",
   "execution_count": 5,
   "id": "fd50df7c-b387-4c2e-b208-965884b097ef",
   "metadata": {},
   "outputs": [
    {
     "name": "stderr",
     "output_type": "stream",
     "text": [
      "Creating embeddings: 100%|██████████| 697/697 [00:00<00:00, 1007037.51it/s]\n"
     ]
    },
    {
     "data": {
      "text/plain": [
       "{'insert_count': 697, 'ids': [0, 1, 2, 3, 4, 5, 6, 7, 8, 9, 10, 11, 12, 13, 14, 15, 16, 17, 18, 19, 20, 21, 22, 23, 24, 25, 26, 27, 28, 29, 30, 31, 32, 33, 34, 35, 36, 37, 38, 39, 40, 41, 42, 43, 44, 45, 46, 47, 48, 49, 50, 51, 52, 53, 54, 55, 56, 57, 58, 59, 60, 61, 62, 63, 64, 65, 66, 67, 68, 69, 70, 71, 72, 73, 74, 75, 76, 77, 78, 79, 80, 81, 82, 83, 84, 85, 86, 87, 88, 89, 90, 91, 92, 93, 94, 95, 96, 97, 98, 99, 100, 101, 102, 103, 104, 105, 106, 107, 108, 109, 110, 111, 112, 113, 114, 115, 116, 117, 118, 119, 120, 121, 122, 123, 124, 125, 126, 127, 128, 129, 130, 131, 132, 133, 134, 135, 136, 137, 138, 139, 140, 141, 142, 143, 144, 145, 146, 147, 148, 149, 150, 151, 152, 153, 154, 155, 156, 157, 158, 159, 160, 161, 162, 163, 164, 165, 166, 167, 168, 169, 170, 171, 172, 173, 174, 175, 176, 177, 178, 179, 180, 181, 182, 183, 184, 185, 186, 187, 188, 189, 190, 191, 192, 193, 194, 195, 196, 197, 198, 199, 200, 201, 202, 203, 204, 205, 206, 207, 208, 209, 210, 211, 212, 213, 214, 215, 216, 217, 218, 219, 220, 221, 222, 223, 224, 225, 226, 227, 228, 229, 230, 231, 232, 233, 234, 235, 236, 237, 238, 239, 240, 241, 242, 243, 244, 245, 246, 247, 248, 249, 250, 251, 252, 253, 254, 255, 256, 257, 258, 259, 260, 261, 262, 263, 264, 265, 266, 267, 268, 269, 270, 271, 272, 273, 274, 275, 276, 277, 278, 279, 280, 281, 282, 283, 284, 285, 286, 287, 288, 289, 290, 291, 292, 293, 294, 295, 296, 297, 298, 299, 300, 301, 302, 303, 304, 305, 306, 307, 308, 309, 310, 311, 312, 313, 314, 315, 316, 317, 318, 319, 320, 321, 322, 323, 324, 325, 326, 327, 328, 329, 330, 331, 332, 333, 334, 335, 336, 337, 338, 339, 340, 341, 342, 343, 344, 345, 346, 347, 348, 349, 350, 351, 352, 353, 354, 355, 356, 357, 358, 359, 360, 361, 362, 363, 364, 365, 366, 367, 368, 369, 370, 371, 372, 373, 374, 375, 376, 377, 378, 379, 380, 381, 382, 383, 384, 385, 386, 387, 388, 389, 390, 391, 392, 393, 394, 395, 396, 397, 398, 399, 400, 401, 402, 403, 404, 405, 406, 407, 408, 409, 410, 411, 412, 413, 414, 415, 416, 417, 418, 419, 420, 421, 422, 423, 424, 425, 426, 427, 428, 429, 430, 431, 432, 433, 434, 435, 436, 437, 438, 439, 440, 441, 442, 443, 444, 445, 446, 447, 448, 449, 450, 451, 452, 453, 454, 455, 456, 457, 458, 459, 460, 461, 462, 463, 464, 465, 466, 467, 468, 469, 470, 471, 472, 473, 474, 475, 476, 477, 478, 479, 480, 481, 482, 483, 484, 485, 486, 487, 488, 489, 490, 491, 492, 493, 494, 495, 496, 497, 498, 499, 500, 501, 502, 503, 504, 505, 506, 507, 508, 509, 510, 511, 512, 513, 514, 515, 516, 517, 518, 519, 520, 521, 522, 523, 524, 525, 526, 527, 528, 529, 530, 531, 532, 533, 534, 535, 536, 537, 538, 539, 540, 541, 542, 543, 544, 545, 546, 547, 548, 549, 550, 551, 552, 553, 554, 555, 556, 557, 558, 559, 560, 561, 562, 563, 564, 565, 566, 567, 568, 569, 570, 571, 572, 573, 574, 575, 576, 577, 578, 579, 580, 581, 582, 583, 584, 585, 586, 587, 588, 589, 590, 591, 592, 593, 594, 595, 596, 597, 598, 599, 600, 601, 602, 603, 604, 605, 606, 607, 608, 609, 610, 611, 612, 613, 614, 615, 616, 617, 618, 619, 620, 621, 622, 623, 624, 625, 626, 627, 628, 629, 630, 631, 632, 633, 634, 635, 636, 637, 638, 639, 640, 641, 642, 643, 644, 645, 646, 647, 648, 649, 650, 651, 652, 653, 654, 655, 656, 657, 658, 659, 660, 661, 662, 663, 664, 665, 666, 667, 668, 669, 670, 671, 672, 673, 674, 675, 676, 677, 678, 679, 680, 681, 682, 683, 684, 685, 686, 687, 688, 689, 690, 691, 692, 693, 694, 695, 696], 'cost': 0}"
      ]
     },
     "execution_count": 5,
     "metadata": {},
     "output_type": "execute_result"
    }
   ],
   "source": [
    "from pymilvus import MilvusClient\n",
    "from pymilvus import utility\n",
    "from tqdm import tqdm\n",
    "milvus_client = MilvusClient(uri=\"./milvus_civil_code_2.db\")\n",
    "collection_name = \"civil_code_collection\"\n",
    "\n",
    "# 执行删除\n",
    "field_name = \"vector\"  # 向量字段名\n",
    "# safe_delete_index(collection_name, field_name)\n",
    "\n",
    "if milvus_client.has_collection(collection_name):\n",
    "    milvus_client.drop_collection(collection_name)\n",
    "\n",
    "milvus_client.create_collection(\n",
    "    collection_name=collection_name,\n",
    "    dimension=len(query_vector[0]),\n",
    "    metric_type=\"IP\",\n",
    "    consistency_level=\"Strong\"\n",
    ")\n",
    "\n",
    "# index_params = {\n",
    "#     \"index_type\": \"HNSW\",  # 对高维中文更友好\n",
    "#     \"metric_type\": \"IP\", \n",
    "#     \"params\": {\n",
    "#         \"M\": 24,     # 更高连通性 (16-48)\n",
    "#         \"efConstruction\": 200  # 更精细构建\n",
    "#     }\n",
    "# }\n",
    "\n",
    "# milvus_client.create_index(\n",
    "#     collection_name=collection_name,\n",
    "#     field_name=\"vector\",\n",
    "#     index_params=index_params\n",
    "# )\n",
    "\n",
    "data = []\n",
    "doc_embeddings = normalize_vectors(chinese_embedding(text_lines))\n",
    "for i, line in enumerate(tqdm(text_lines, desc=\"Creating embeddings\")):\n",
    "    data.append({\"id\":i, \"vector\":doc_embeddings[i], \"text\": line})\n",
    "# print(data[0:10])\n",
    "milvus_client.insert(collection_name=collection_name, data = data)"
   ]
  },
  {
   "cell_type": "code",
   "execution_count": null,
   "id": "ae8c0d2b-79bf-4295-90e0-1977ac337c34",
   "metadata": {},
   "outputs": [],
   "source": [
    "# len(embedding_model.encode_queries([question])[0])"
   ]
  },
  {
   "cell_type": "code",
   "execution_count": 6,
   "id": "365ecebf-b5ce-49ca-a76a-bebfb7b934f4",
   "metadata": {},
   "outputs": [
    {
     "name": "stdout",
     "output_type": "stream",
     "text": [
      "data: [[{'id': 21, 'distance': 12.124847412109375, 'entity': {'text': '申请登记的不动产存在尚未解决的权属争议的，登记机构应当不予登记，并书面告知申请人。\\n'}}, {'id': 31, 'distance': 11.665121078491211, 'entity': {'text': '不动产登记簿记载的事项与不动产权属证书记载的事项不一致的，除有证据证明不动产登记簿确有错误外，以不动产登记簿为准。\\n'}}, {'id': 32, 'distance': 10.981340408325195, 'entity': {'text': '**第二百一十七条** 不动产权属证书是权利人享有该不动产物权的证明。不动产权属证书记载的事项，应当与不动产登记簿一致；不一致的，除有证据证明不动产登记簿确有错误外，以不动产登记簿为准。\\n'}}]]\n",
      "[\n",
      "    [\n",
      "        \"\\u7533\\u8bf7\\u767b\\u8bb0\\u7684\\u4e0d\\u52a8\\u4ea7\\u5b58\\u5728\\u5c1a\\u672a\\u89e3\\u51b3\\u7684\\u6743\\u5c5e\\u4e89\\u8bae\\u7684\\uff0c\\u767b\\u8bb0\\u673a\\u6784\\u5e94\\u5f53\\u4e0d\\u4e88\\u767b\\u8bb0\\uff0c\\u5e76\\u4e66\\u9762\\u544a\\u77e5\\u7533\\u8bf7\\u4eba\\u3002\\n\",\n",
      "        12.124847412109375\n",
      "    ],\n",
      "    [\n",
      "        \"\\u4e0d\\u52a8\\u4ea7\\u767b\\u8bb0\\u7c3f\\u8bb0\\u8f7d\\u7684\\u4e8b\\u9879\\u4e0e\\u4e0d\\u52a8\\u4ea7\\u6743\\u5c5e\\u8bc1\\u4e66\\u8bb0\\u8f7d\\u7684\\u4e8b\\u9879\\u4e0d\\u4e00\\u81f4\\u7684\\uff0c\\u9664\\u6709\\u8bc1\\u636e\\u8bc1\\u660e\\u4e0d\\u52a8\\u4ea7\\u767b\\u8bb0\\u7c3f\\u786e\\u6709\\u9519\\u8bef\\u5916\\uff0c\\u4ee5\\u4e0d\\u52a8\\u4ea7\\u767b\\u8bb0\\u7c3f\\u4e3a\\u51c6\\u3002\\n\",\n",
      "        11.665121078491211\n",
      "    ],\n",
      "    [\n",
      "        \"**\\u7b2c\\u4e8c\\u767e\\u4e00\\u5341\\u4e03\\u6761** \\u4e0d\\u52a8\\u4ea7\\u6743\\u5c5e\\u8bc1\\u4e66\\u662f\\u6743\\u5229\\u4eba\\u4eab\\u6709\\u8be5\\u4e0d\\u52a8\\u4ea7\\u7269\\u6743\\u7684\\u8bc1\\u660e\\u3002\\u4e0d\\u52a8\\u4ea7\\u6743\\u5c5e\\u8bc1\\u4e66\\u8bb0\\u8f7d\\u7684\\u4e8b\\u9879\\uff0c\\u5e94\\u5f53\\u4e0e\\u4e0d\\u52a8\\u4ea7\\u767b\\u8bb0\\u7c3f\\u4e00\\u81f4\\uff1b\\u4e0d\\u4e00\\u81f4\\u7684\\uff0c\\u9664\\u6709\\u8bc1\\u636e\\u8bc1\\u660e\\u4e0d\\u52a8\\u4ea7\\u767b\\u8bb0\\u7c3f\\u786e\\u6709\\u9519\\u8bef\\u5916\\uff0c\\u4ee5\\u4e0d\\u52a8\\u4ea7\\u767b\\u8bb0\\u7c3f\\u4e3a\\u51c6\\u3002\\n\",\n",
      "        10.981340408325195\n",
      "    ]\n",
      "]\n"
     ]
    }
   ],
   "source": [
    "\n",
    "search_res = milvus_client.search(\n",
    "    collection_name = collection_name,\n",
    "    data=query_vector,\n",
    "    limit=3,\n",
    "    search_param={\"metric_type\":\"IP\", \"params\":{}},\n",
    "    output_fields=[\"text\"]\n",
    ")\n",
    "\n",
    "print(search_res)\n",
    "\n",
    "import json\n",
    "retrieved_lines_with_distances=[\n",
    "    (res[\"entity\"][\"text\"], res[\"distance\"]) for res in search_res[0]\n",
    "]\n",
    "print(json.dumps(retrieved_lines_with_distances, indent=4))"
   ]
  },
  {
   "cell_type": "code",
   "execution_count": 7,
   "id": "e876ed7d-1316-40c0-8381-8e222e9624d4",
   "metadata": {},
   "outputs": [
    {
     "name": "stdout",
     "output_type": "stream",
     "text": [
      "根据提供的上下文，不动产登记机构不得有以下行为：\n",
      "\n",
      "1. 对存在权属争议的不动产予以登记（必须不予登记并书面告知申请人）\n",
      "2. 在登记簿与权属证书记载不一致时，无证据证明登记簿错误的情况下擅自以权属证书为准（必须坚持以不动产登记簿为准）\n",
      "\n",
      "法律依据：\n",
      "- 对于权属争议的情况未明确说明具体法条，但明确规定\"应当不予登记\"\n",
      "- 对于登记簿与权属证书记载不一致的情况，依据《民法典》第二百一十七条规定\n",
      "\n",
      "<translated>\n",
      "根据提供的上下文，不动产登记机构不得有以下行为：\n",
      "\n",
      "1. 对存在权属争议的不动产进行登记（必须拒绝登记并书面通知申请人）\n",
      "2. 当登记记录与产权证书内容不一致时，在没有证据证明登记记录确实有误的情况下，擅自以产权证书为准（必须坚持以不动产登记记录为准）\n",
      "\n",
      "法律依据：\n",
      "- 对于产权争议的情况虽未指明具体条款，但明确规定\"应当不予登记\"\n",
      "- 对于登记记录与产权证书记载不一致的情形，依据《民法典》第217条规定\n",
      "</translated>\n"
     ]
    }
   ],
   "source": [
    "context = \"\\n\".join(\n",
    "    [line_with_distance[0] for line_with_distance in retrieved_lines_with_distances]\n",
    ")\n",
    "\n",
    "SYSTEM_PROMPT = \"\"\"\n",
    "Human: 你是一个 AI 助手。你能够从提供的上下文段落片段中找到问题的答案。\n",
    "\"\"\"\n",
    "USER_PROMPT = f\"\"\"\n",
    "请使用以下用 <context> 标签括起来的信息片段来回答用 <question> 标签括起来的问题。最后追加原始回答的中文翻译，并用 <translated>和</translated> 标签标注。\n",
    "<context>\n",
    "{context}\n",
    "</context>\n",
    "<question>\n",
    "{question}\n",
    "</question>\n",
    "<translated>\n",
    "</translated>\n",
    "\"\"\"\n",
    "\n",
    "response = deepseek_client.chat.completions.create(\n",
    "    model=\"deepseek-chat\",\n",
    "    messages=[\n",
    "        {\"role\": \"system\", \"content\": SYSTEM_PROMPT},\n",
    "        {\"role\": \"user\", \"content\": USER_PROMPT},\n",
    "    ],\n",
    ")\n",
    "print(response.choices[0].message.content)\n",
    "\n"
   ]
  }
 ],
 "metadata": {
  "kernelspec": {
   "display_name": "Python 3 (ipykernel)",
   "language": "python",
   "name": "python3"
  },
  "language_info": {
   "codemirror_mode": {
    "name": "ipython",
    "version": 3
   },
   "file_extension": ".py",
   "mimetype": "text/x-python",
   "name": "python",
   "nbconvert_exporter": "python",
   "pygments_lexer": "ipython3",
   "version": "3.13.4"
  }
 },
 "nbformat": 4,
 "nbformat_minor": 5
}
